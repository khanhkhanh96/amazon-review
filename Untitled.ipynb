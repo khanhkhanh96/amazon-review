{
 "cells": [
  {
   "cell_type": "code",
   "execution_count": 73,
   "metadata": {
    "collapsed": true
   },
   "outputs": [],
   "source": [
    "import pandas as pd\n",
    "import numpy as np\n",
    "import json\n",
    "from sklearn.feature_extraction.text import TfidfTransformer\n",
    "import matplotlib\n",
    "import matplotlib.pyplot as plt\n",
    "from sklearn.model_selection import train_test_split\n",
    "from sklearn.naive_bayes import MultinomialNB\n",
    "import seaborn as sns\n",
    "from sklearn.feature_extraction.text import CountVectorizer\n",
    "from scipy.stats import itemfreq\n"
   ]
  },
  {
   "cell_type": "code",
   "execution_count": 74,
   "metadata": {},
   "outputs": [
    {
     "data": {
      "text/plain": [
       "(64706, 9)"
      ]
     },
     "execution_count": 74,
     "metadata": {},
     "output_type": "execute_result"
    }
   ],
   "source": [
    "\n",
    "\n",
    "datafile = pd.read_json(\"Digital_Music_5.json\",lines=True)\n",
    "datafile.shape\n"
   ]
  },
  {
   "cell_type": "code",
   "execution_count": 75,
   "metadata": {
    "scrolled": false
   },
   "outputs": [
    {
     "data": {
      "text/html": [
       "<div>\n",
       "<style>\n",
       "    .dataframe thead tr:only-child th {\n",
       "        text-align: right;\n",
       "    }\n",
       "\n",
       "    .dataframe thead th {\n",
       "        text-align: left;\n",
       "    }\n",
       "\n",
       "    .dataframe tbody tr th {\n",
       "        vertical-align: top;\n",
       "    }\n",
       "</style>\n",
       "<table border=\"1\" class=\"dataframe\">\n",
       "  <thead>\n",
       "    <tr style=\"text-align: right;\">\n",
       "      <th></th>\n",
       "      <th>asin</th>\n",
       "      <th>helpful</th>\n",
       "      <th>overall</th>\n",
       "      <th>reviewText</th>\n",
       "      <th>reviewTime</th>\n",
       "      <th>reviewerID</th>\n",
       "      <th>reviewerName</th>\n",
       "      <th>summary</th>\n",
       "      <th>unixReviewTime</th>\n",
       "    </tr>\n",
       "  </thead>\n",
       "  <tbody>\n",
       "    <tr>\n",
       "      <th>0</th>\n",
       "      <td>5555991584</td>\n",
       "      <td>[3, 3]</td>\n",
       "      <td>5</td>\n",
       "      <td>It's hard to believe \"Memory of Trees\" came ou...</td>\n",
       "      <td>09 12, 2006</td>\n",
       "      <td>A3EBHHCZO6V2A4</td>\n",
       "      <td>Amaranth \"music fan\"</td>\n",
       "      <td>Enya's last great album</td>\n",
       "      <td>1158019200</td>\n",
       "    </tr>\n",
       "    <tr>\n",
       "      <th>1</th>\n",
       "      <td>5555991584</td>\n",
       "      <td>[0, 0]</td>\n",
       "      <td>5</td>\n",
       "      <td>A clasically-styled and introverted album, Mem...</td>\n",
       "      <td>06 3, 2001</td>\n",
       "      <td>AZPWAXJG9OJXV</td>\n",
       "      <td>bethtexas</td>\n",
       "      <td>Enya at her most elegant</td>\n",
       "      <td>991526400</td>\n",
       "    </tr>\n",
       "    <tr>\n",
       "      <th>2</th>\n",
       "      <td>5555991584</td>\n",
       "      <td>[2, 2]</td>\n",
       "      <td>5</td>\n",
       "      <td>I never thought Enya would reach the sublime h...</td>\n",
       "      <td>07 14, 2003</td>\n",
       "      <td>A38IRL0X2T4DPF</td>\n",
       "      <td>bob turnley</td>\n",
       "      <td>The best so far</td>\n",
       "      <td>1058140800</td>\n",
       "    </tr>\n",
       "    <tr>\n",
       "      <th>3</th>\n",
       "      <td>5555991584</td>\n",
       "      <td>[1, 1]</td>\n",
       "      <td>5</td>\n",
       "      <td>This is the third review of an irish album I w...</td>\n",
       "      <td>05 3, 2000</td>\n",
       "      <td>A22IK3I6U76GX0</td>\n",
       "      <td>Calle</td>\n",
       "      <td>Ireland produces good music.</td>\n",
       "      <td>957312000</td>\n",
       "    </tr>\n",
       "    <tr>\n",
       "      <th>4</th>\n",
       "      <td>5555991584</td>\n",
       "      <td>[1, 1]</td>\n",
       "      <td>4</td>\n",
       "      <td>Enya, despite being a successful recording art...</td>\n",
       "      <td>01 17, 2008</td>\n",
       "      <td>A1AISPOIIHTHXX</td>\n",
       "      <td>Cloud \"...\"</td>\n",
       "      <td>4.5; music to dream to</td>\n",
       "      <td>1200528000</td>\n",
       "    </tr>\n",
       "  </tbody>\n",
       "</table>\n",
       "</div>"
      ],
      "text/plain": [
       "         asin helpful  overall  \\\n",
       "0  5555991584  [3, 3]        5   \n",
       "1  5555991584  [0, 0]        5   \n",
       "2  5555991584  [2, 2]        5   \n",
       "3  5555991584  [1, 1]        5   \n",
       "4  5555991584  [1, 1]        4   \n",
       "\n",
       "                                          reviewText   reviewTime  \\\n",
       "0  It's hard to believe \"Memory of Trees\" came ou...  09 12, 2006   \n",
       "1  A clasically-styled and introverted album, Mem...   06 3, 2001   \n",
       "2  I never thought Enya would reach the sublime h...  07 14, 2003   \n",
       "3  This is the third review of an irish album I w...   05 3, 2000   \n",
       "4  Enya, despite being a successful recording art...  01 17, 2008   \n",
       "\n",
       "       reviewerID          reviewerName                       summary  \\\n",
       "0  A3EBHHCZO6V2A4  Amaranth \"music fan\"       Enya's last great album   \n",
       "1   AZPWAXJG9OJXV             bethtexas      Enya at her most elegant   \n",
       "2  A38IRL0X2T4DPF           bob turnley               The best so far   \n",
       "3  A22IK3I6U76GX0                 Calle  Ireland produces good music.   \n",
       "4  A1AISPOIIHTHXX           Cloud \"...\"        4.5; music to dream to   \n",
       "\n",
       "   unixReviewTime  \n",
       "0      1158019200  \n",
       "1       991526400  \n",
       "2      1058140800  \n",
       "3       957312000  \n",
       "4      1200528000  "
      ]
     },
     "execution_count": 75,
     "metadata": {},
     "output_type": "execute_result"
    }
   ],
   "source": [
    "datafile.head()# hiển thị 5 dòng dữ liệu"
   ]
  },
  {
   "cell_type": "code",
   "execution_count": null,
   "metadata": {
    "collapsed": true
   },
   "outputs": [],
   "source": []
  },
  {
   "cell_type": "code",
   "execution_count": 76,
   "metadata": {
    "scrolled": true
   },
   "outputs": [
    {
     "data": {
      "text/html": [
       "<div>\n",
       "<style>\n",
       "    .dataframe thead tr:only-child th {\n",
       "        text-align: right;\n",
       "    }\n",
       "\n",
       "    .dataframe thead th {\n",
       "        text-align: left;\n",
       "    }\n",
       "\n",
       "    .dataframe tbody tr th {\n",
       "        vertical-align: top;\n",
       "    }\n",
       "</style>\n",
       "<table border=\"1\" class=\"dataframe\">\n",
       "  <thead>\n",
       "    <tr style=\"text-align: right;\">\n",
       "      <th></th>\n",
       "      <th>reviewText</th>\n",
       "      <th>summary</th>\n",
       "    </tr>\n",
       "  </thead>\n",
       "  <tbody>\n",
       "    <tr>\n",
       "      <th>0</th>\n",
       "      <td>It's hard to believe \"Memory of Trees\" came ou...</td>\n",
       "      <td>Enya's last great album</td>\n",
       "    </tr>\n",
       "    <tr>\n",
       "      <th>1</th>\n",
       "      <td>A clasically-styled and introverted album, Mem...</td>\n",
       "      <td>Enya at her most elegant</td>\n",
       "    </tr>\n",
       "    <tr>\n",
       "      <th>2</th>\n",
       "      <td>I never thought Enya would reach the sublime h...</td>\n",
       "      <td>The best so far</td>\n",
       "    </tr>\n",
       "    <tr>\n",
       "      <th>3</th>\n",
       "      <td>This is the third review of an irish album I w...</td>\n",
       "      <td>Ireland produces good music.</td>\n",
       "    </tr>\n",
       "    <tr>\n",
       "      <th>4</th>\n",
       "      <td>Enya, despite being a successful recording art...</td>\n",
       "      <td>4.5; music to dream to</td>\n",
       "    </tr>\n",
       "  </tbody>\n",
       "</table>\n",
       "</div>"
      ],
      "text/plain": [
       "                                          reviewText  \\\n",
       "0  It's hard to believe \"Memory of Trees\" came ou...   \n",
       "1  A clasically-styled and introverted album, Mem...   \n",
       "2  I never thought Enya would reach the sublime h...   \n",
       "3  This is the third review of an irish album I w...   \n",
       "4  Enya, despite being a successful recording art...   \n",
       "\n",
       "                        summary  \n",
       "0       Enya's last great album  \n",
       "1      Enya at her most elegant  \n",
       "2               The best so far  \n",
       "3  Ireland produces good music.  \n",
       "4        4.5; music to dream to  "
      ]
     },
     "execution_count": 76,
     "metadata": {},
     "output_type": "execute_result"
    }
   ],
   "source": [
    "# chỉ lấy cột reviewText và summary\n",
    "data = pd.concat([datafile['reviewText'], datafile['summary']],axis = 1, keys =['reviewText', 'summary'])\n",
    "data.head() # xem lại dữ liệu"
   ]
  },
  {
   "cell_type": "code",
   "execution_count": 77,
   "metadata": {
    "scrolled": true
   },
   "outputs": [
    {
     "data": {
      "text/html": [
       "<div>\n",
       "<style>\n",
       "    .dataframe thead tr:only-child th {\n",
       "        text-align: right;\n",
       "    }\n",
       "\n",
       "    .dataframe thead th {\n",
       "        text-align: left;\n",
       "    }\n",
       "\n",
       "    .dataframe tbody tr th {\n",
       "        vertical-align: top;\n",
       "    }\n",
       "</style>\n",
       "<table border=\"1\" class=\"dataframe\">\n",
       "  <thead>\n",
       "    <tr style=\"text-align: right;\">\n",
       "      <th></th>\n",
       "      <th>reviewText</th>\n",
       "      <th>summary</th>\n",
       "    </tr>\n",
       "  </thead>\n",
       "  <tbody>\n",
       "    <tr>\n",
       "      <th>count</th>\n",
       "      <td>64706</td>\n",
       "      <td>64706</td>\n",
       "    </tr>\n",
       "    <tr>\n",
       "      <th>unique</th>\n",
       "      <td>64701</td>\n",
       "      <td>59841</td>\n",
       "    </tr>\n",
       "    <tr>\n",
       "      <th>top</th>\n",
       "      <td>It's hard to know what to make of Eminem, even...</td>\n",
       "      <td>Classic</td>\n",
       "    </tr>\n",
       "    <tr>\n",
       "      <th>freq</th>\n",
       "      <td>3</td>\n",
       "      <td>120</td>\n",
       "    </tr>\n",
       "  </tbody>\n",
       "</table>\n",
       "</div>"
      ],
      "text/plain": [
       "                                               reviewText  summary\n",
       "count                                               64706    64706\n",
       "unique                                              64701    59841\n",
       "top     It's hard to know what to make of Eminem, even...  Classic\n",
       "freq                                                    3      120"
      ]
     },
     "execution_count": 77,
     "metadata": {},
     "output_type": "execute_result"
    }
   ],
   "source": [
    "data.describe() # kiểm tra dữ liệu"
   ]
  },
  {
   "cell_type": "markdown",
   "metadata": {},
   "source": [
    "dữ liệu đầy đủ,  không có giá trị null."
   ]
  },
  {
   "cell_type": "code",
   "execution_count": 78,
   "metadata": {
    "scrolled": false
   },
   "outputs": [
    {
     "data": {
      "text/html": [
       "<div>\n",
       "<style>\n",
       "    .dataframe thead tr:only-child th {\n",
       "        text-align: right;\n",
       "    }\n",
       "\n",
       "    .dataframe thead th {\n",
       "        text-align: left;\n",
       "    }\n",
       "\n",
       "    .dataframe tbody tr th {\n",
       "        vertical-align: top;\n",
       "    }\n",
       "</style>\n",
       "<table border=\"1\" class=\"dataframe\">\n",
       "  <thead>\n",
       "    <tr style=\"text-align: right;\">\n",
       "      <th></th>\n",
       "      <th>reviewText</th>\n",
       "      <th>summary</th>\n",
       "      <th>target</th>\n",
       "    </tr>\n",
       "  </thead>\n",
       "  <tbody>\n",
       "    <tr>\n",
       "      <th>0</th>\n",
       "      <td>It's hard to believe \"Memory of Trees\" came ou...</td>\n",
       "      <td>Enya's last great album</td>\n",
       "      <td>high</td>\n",
       "    </tr>\n",
       "    <tr>\n",
       "      <th>1</th>\n",
       "      <td>A clasically-styled and introverted album, Mem...</td>\n",
       "      <td>Enya at her most elegant</td>\n",
       "      <td>high</td>\n",
       "    </tr>\n",
       "    <tr>\n",
       "      <th>2</th>\n",
       "      <td>I never thought Enya would reach the sublime h...</td>\n",
       "      <td>The best so far</td>\n",
       "      <td>high</td>\n",
       "    </tr>\n",
       "    <tr>\n",
       "      <th>3</th>\n",
       "      <td>This is the third review of an irish album I w...</td>\n",
       "      <td>Ireland produces good music.</td>\n",
       "      <td>high</td>\n",
       "    </tr>\n",
       "    <tr>\n",
       "      <th>4</th>\n",
       "      <td>Enya, despite being a successful recording art...</td>\n",
       "      <td>4.5; music to dream to</td>\n",
       "      <td>high</td>\n",
       "    </tr>\n",
       "  </tbody>\n",
       "</table>\n",
       "</div>"
      ],
      "text/plain": [
       "                                          reviewText  \\\n",
       "0  It's hard to believe \"Memory of Trees\" came ou...   \n",
       "1  A clasically-styled and introverted album, Mem...   \n",
       "2  I never thought Enya would reach the sublime h...   \n",
       "3  This is the third review of an irish album I w...   \n",
       "4  Enya, despite being a successful recording art...   \n",
       "\n",
       "                        summary target  \n",
       "0       Enya's last great album   high  \n",
       "1      Enya at her most elegant   high  \n",
       "2               The best so far   high  \n",
       "3  Ireland produces good music.   high  \n",
       "4        4.5; music to dream to   high  "
      ]
     },
     "execution_count": 78,
     "metadata": {},
     "output_type": "execute_result"
    }
   ],
   "source": [
    "# Chuyển overall từ 1-5 thành low, medium, high\n",
    "conditions = [\n",
    "    (datafile['overall'] >=4) ,\n",
    "    (datafile['overall'] <=2)]\n",
    "choices = ['high', 'low']\n",
    "data['target'] = np.select(conditions, choices, default='medium')\n",
    "data.head()"
   ]
  },
  {
   "cell_type": "code",
   "execution_count": 79,
   "metadata": {},
   "outputs": [
    {
     "data": {
      "text/html": [
       "<div>\n",
       "<style>\n",
       "    .dataframe thead tr:only-child th {\n",
       "        text-align: right;\n",
       "    }\n",
       "\n",
       "    .dataframe thead th {\n",
       "        text-align: left;\n",
       "    }\n",
       "\n",
       "    .dataframe tbody tr th {\n",
       "        vertical-align: top;\n",
       "    }\n",
       "</style>\n",
       "<table border=\"1\" class=\"dataframe\">\n",
       "  <thead>\n",
       "    <tr style=\"text-align: right;\">\n",
       "      <th></th>\n",
       "      <th>reviewText</th>\n",
       "      <th>summary</th>\n",
       "      <th>target</th>\n",
       "    </tr>\n",
       "  </thead>\n",
       "  <tbody>\n",
       "    <tr>\n",
       "      <th>count</th>\n",
       "      <td>64706</td>\n",
       "      <td>64706</td>\n",
       "      <td>64706</td>\n",
       "    </tr>\n",
       "    <tr>\n",
       "      <th>unique</th>\n",
       "      <td>64701</td>\n",
       "      <td>59841</td>\n",
       "      <td>3</td>\n",
       "    </tr>\n",
       "    <tr>\n",
       "      <th>top</th>\n",
       "      <td>It's hard to know what to make of Eminem, even...</td>\n",
       "      <td>Classic</td>\n",
       "      <td>high</td>\n",
       "    </tr>\n",
       "    <tr>\n",
       "      <th>freq</th>\n",
       "      <td>3</td>\n",
       "      <td>120</td>\n",
       "      <td>52116</td>\n",
       "    </tr>\n",
       "  </tbody>\n",
       "</table>\n",
       "</div>"
      ],
      "text/plain": [
       "                                               reviewText  summary target\n",
       "count                                               64706    64706  64706\n",
       "unique                                              64701    59841      3\n",
       "top     It's hard to know what to make of Eminem, even...  Classic   high\n",
       "freq                                                    3      120  52116"
      ]
     },
     "execution_count": 79,
     "metadata": {},
     "output_type": "execute_result"
    }
   ],
   "source": [
    "data.describe()"
   ]
  },
  {
   "cell_type": "code",
   "execution_count": 80,
   "metadata": {
    "scrolled": false
   },
   "outputs": [
    {
     "data": {
      "image/png": "[encoded data removed]",
      "text/plain": [
       "<matplotlib.figure.Figure at 0x1df8312c518>"
      ]
     },
     "metadata": {},
     "output_type": "display_data"
    }
   ],
   "source": [
    "data.drop('summary',axis = 1).groupby('target').count().plot.bar(rot=0) # Biểu đồ về số lượng các giá trị cột target\n",
    "plt.show()"
   ]
  },
  {
   "cell_type": "markdown",
   "metadata": {},
   "source": [
    "rất nhiều các review ở mức high, vượt trội hơn hẳn so với medium và low"
   ]
  },
  {
   "cell_type": "code",
   "execution_count": 81,
   "metadata": {},
   "outputs": [
    {
     "data": {
      "text/plain": [
       "high      52116\n",
       "medium     6789\n",
       "low        5801\n",
       "Name: target, dtype: int64"
      ]
     },
     "execution_count": 81,
     "metadata": {},
     "output_type": "execute_result"
    }
   ],
   "source": [
    "data.target.value_counts() # xem số liệu cụ thể"
   ]
  },
  {
   "cell_type": "code",
   "execution_count": 82,
   "metadata": {
    "collapsed": true
   },
   "outputs": [],
   "source": [
    "X_train, X_test, y_train, y_test = train_test_split(data, data['target'], \n",
    "                                                    test_size=0.2, random_state=42) # chia tập train và test tỉ lệ 8-2"
   ]
  },
  {
   "cell_type": "code",
   "execution_count": 83,
   "metadata": {},
   "outputs": [],
   "source": [
    "#tập test với các giá trị high, medium, low để kiểm tra tỉ lệ chính xác với từng nhãn.\n",
    "high_test = data[data['target'] == \"high\"]\n",
    "medium_test = data[data['target'] == \"medium\"]\n",
    "low_test = data[data['target'] == \"low\"]"
   ]
  },
  {
   "cell_type": "code",
   "execution_count": 84,
   "metadata": {
    "scrolled": true
   },
   "outputs": [
    {
     "name": "stdout",
     "output_type": "stream",
     "text": [
      "(12942, 3)\n",
      "(51764, 3)\n",
      "(12942,)\n",
      "(51764,)\n"
     ]
    }
   ],
   "source": [
    "# xem kích thước dữ liệu\n",
    "print(X_test.shape)\n",
    "print(X_train.shape)\n",
    "print(y_test.shape)\n",
    "print(y_train.shape)"
   ]
  },
  {
   "cell_type": "code",
   "execution_count": 85,
   "metadata": {},
   "outputs": [
    {
     "data": {
      "text/plain": [
       "array([['high', 10392],\n",
       "       ['low', 1200],\n",
       "       ['medium', 1350]], dtype=object)"
      ]
     },
     "execution_count": 85,
     "metadata": {},
     "output_type": "execute_result"
    }
   ],
   "source": [
    "itemfreq(y_test) #value count y_test"
   ]
  },
  {
   "cell_type": "markdown",
   "metadata": {},
   "source": [
    "# dự đoán dùng cột reviewText"
   ]
  },
  {
   "cell_type": "code",
   "execution_count": 86,
   "metadata": {},
   "outputs": [],
   "source": [
    "count_vect = CountVectorizer(stop_words='english')\n",
    "X_train_counts_text = count_vect.fit_transform(X_train.reviewText) #dùng CountVectorizer để transfrom dữ liệu."
   ]
  },
  {
   "cell_type": "code",
   "execution_count": 87,
   "metadata": {},
   "outputs": [
    {
     "data": {
      "text/plain": [
       "0.8157935404110648"
      ]
     },
     "execution_count": 87,
     "metadata": {},
     "output_type": "execute_result"
    }
   ],
   "source": [
    "from sklearn.naive_bayes import MultinomialNB\n",
    "clf = MultinomialNB().fit(X_train_counts_text, y_train) # dùng Multinomial NaiveBayes\n",
    "X_test_counts_text = count_vect.transform(X_test.reviewText)  # transform dữ liệu test\n",
    "predicted0 = clf.predict(X_test_counts_text)\n",
    "np.mean(predicted0 == y_test) # tỉ lệ chính xác giữa dữ  liệu predict và y_test"
   ]
  },
  {
   "cell_type": "code",
   "execution_count": 88,
   "metadata": {},
   "outputs": [
    {
     "name": "stdout",
     "output_type": "stream",
     "text": [
      "tỉ lệ chính xác với tập high_test:  0.9432419986184665\n",
      "tỉ lệ chính xác với tập medium_test:  0.3318603623508617\n",
      "tỉ lệ chính xác với tập low_test:  0.5436993621789347\n"
     ]
    }
   ],
   "source": [
    "#kiểm tra tỉ lệ với từng tập high_test, medium_test, low_test.\n",
    "X_test_high = count_vect.transform(high_test.reviewText)\n",
    "X_test_medium = count_vect.transform(medium_test.reviewText)\n",
    "X_test_low = count_vect.transform(low_test.reviewText)\n",
    "print(\"tỉ lệ chính xác với tập high_test: \",np.mean(clf.predict(X_test_high) == high_test.target))\n",
    "print(\"tỉ lệ chính xác với tập medium_test: \",np.mean(clf.predict(X_test_medium) == medium_test.target))\n",
    "print(\"tỉ lệ chính xác với tập low_test: \",np.mean(clf.predict(X_test_low) == low_test.target))"
   ]
  },
  {
   "cell_type": "code",
   "execution_count": 89,
   "metadata": {
    "scrolled": false
   },
   "outputs": [
    {
     "data": {
      "text/plain": [
       "array([['high', '11510'],\n",
       "       ['low', '886'],\n",
       "       ['medium', '546']], dtype='<U21')"
      ]
     },
     "execution_count": 89,
     "metadata": {},
     "output_type": "execute_result"
    }
   ],
   "source": [
    "itemfreq(predicted0) # value count của dữ liệu dự đoán"
   ]
  },
  {
   "cell_type": "code",
   "execution_count": 90,
   "metadata": {},
   "outputs": [
    {
     "name": "stdout",
     "output_type": "stream",
     "text": [
      "prior:  0.7912223767578427 with alpha:  0.4\n",
      "prior:  0.8026580126719208 with alpha:  0.6\n",
      "prior:  0.8108484005563282 with alpha:  0.8\n",
      "prior:  0.8157935404110648 with alpha:  1.0\n",
      "prior:  0.82035234121465 with alpha:  1.2\n",
      "prior:  0.8216658939885644 with alpha:  1.4\n",
      "prior:  0.8207386802658012 with alpha:  1.6\n",
      "prior:  0.8194251274918869 with alpha:  1.8\n"
     ]
    }
   ],
   "source": [
    "for i in range(4, 20,2):\n",
    "    clf = MultinomialNB(alpha=i/10).fit(X_train_counts_text, y_train)# dùng Multinomial NaiveBayes thay đổi giá trị alpha \n",
    "                                                                        #từ 0.4 đến 2.mặc đinh alpha = 1.0\n",
    "    X_test_counts_text = count_vect.transform(X_test.reviewText)  # transform dữ liệu test\n",
    "    predicted0 = clf.predict(X_test_counts_text)\n",
    "    print(\"prior: \",np.mean(predicted0 == y_test),\"with alpha: \", i/10) "
   ]
  },
  {
   "cell_type": "code",
   "execution_count": 91,
   "metadata": {
    "collapsed": true
   },
   "outputs": [],
   "source": [
    "# thấy alpha = 1.4 là giá trị tôt nhất."
   ]
  },
  {
   "cell_type": "code",
   "execution_count": 92,
   "metadata": {},
   "outputs": [
    {
     "data": {
      "text/plain": [
       "0.813475506104157"
      ]
     },
     "execution_count": 92,
     "metadata": {},
     "output_type": "execute_result"
    }
   ],
   "source": [
    " # sử dụng Bernoulli Naive Bayes\n",
    "from sklearn.naive_bayes import BernoulliNB\n",
    "clf = BernoulliNB()                                 \n",
    "predicted1 = clf.fit(X_train_counts_text,y_train).predict(X_test_counts_text)\n",
    "np.mean(predicted1 == y_test)"
   ]
  },
  {
   "cell_type": "code",
   "execution_count": 93,
   "metadata": {
    "scrolled": true
   },
   "outputs": [
    {
     "data": {
      "text/plain": [
       "array([['high', '11816'],\n",
       "       ['low', '590'],\n",
       "       ['medium', '536']], dtype='<U21')"
      ]
     },
     "execution_count": 93,
     "metadata": {},
     "output_type": "execute_result"
    }
   ],
   "source": [
    "itemfreq(predicted1)"
   ]
  },
  {
   "cell_type": "code",
   "execution_count": 94,
   "metadata": {},
   "outputs": [
    {
     "name": "stdout",
     "output_type": "stream",
     "text": [
      "tỉ lệ chính xác với tập high_test:  0.9486721928006754\n",
      "tỉ lệ chính xác với tập medium_test:  0.24230372661658564\n",
      "tỉ lệ chính xác với tập low_test:  0.4502671953111532\n"
     ]
    }
   ],
   "source": [
    "#kiểm tra tỉ lệ với tập high_test, medium_test, low_test.\n",
    "X_test_high = count_vect.transform(high_test.reviewText)\n",
    "X_test_medium = count_vect.transform(medium_test.reviewText)\n",
    "X_test_low = count_vect.transform(low_test.reviewText)\n",
    "print(\"tỉ lệ chính xác với tập high_test: \",np.mean(clf.predict(X_test_high) == high_test.target))\n",
    "print(\"tỉ lệ chính xác với tập medium_test: \",np.mean(clf.predict(X_test_medium) == medium_test.target))\n",
    "print(\"tỉ lệ chính xác với tập low_test: \",np.mean(clf.predict(X_test_low) == low_test.target))"
   ]
  },
  {
   "cell_type": "markdown",
   "metadata": {},
   "source": [
    "# dự đoán dùng cột summary"
   ]
  },
  {
   "cell_type": "code",
   "execution_count": 95,
   "metadata": {},
   "outputs": [
    {
     "data": {
      "text/plain": [
       "0.8129346314325452"
      ]
     },
     "execution_count": 95,
     "metadata": {},
     "output_type": "execute_result"
    }
   ],
   "source": [
    "# train với MultinomialNB\n",
    "X_train_counts_sum = count_vect.fit_transform(X_train.summary)\n",
    "clf = MultinomialNB().fit(X_train_counts_sum, y_train)\n",
    "X_test_counts_sum = count_vect.transform(X_test.summary)\n",
    "predicted2 = clf.predict(X_test_counts_sum)\n",
    "np.mean(predicted2 == y_test)"
   ]
  },
  {
   "cell_type": "code",
   "execution_count": 96,
   "metadata": {
    "scrolled": true
   },
   "outputs": [
    {
     "data": {
      "text/plain": [
       "array([['high', '12206'],\n",
       "       ['low', '408'],\n",
       "       ['medium', '328']], dtype='<U21')"
      ]
     },
     "execution_count": 96,
     "metadata": {},
     "output_type": "execute_result"
    }
   ],
   "source": [
    "itemfreq(predicted2)"
   ]
  },
  {
   "cell_type": "code",
   "execution_count": 97,
   "metadata": {
    "scrolled": true
   },
   "outputs": [
    {
     "name": "stdout",
     "output_type": "stream",
     "text": [
      "prior:  0.8043579044969865 with alpha:  0.1\n",
      "prior:  0.8072940812857363 with alpha:  0.3\n",
      "prior:  0.8117756142790913 with alpha:  0.5\n",
      "prior:  0.8130118992427755 with alpha:  0.7\n",
      "prior:  0.8125482923813939 with alpha:  0.9\n",
      "prior:  0.8120074177097821 with alpha:  1.1\n",
      "prior:  0.8116983464688611 with alpha:  1.3\n",
      "prior:  0.8119301498995518 with alpha:  1.5\n",
      "prior:  0.8130118992427755 with alpha:  1.7\n",
      "prior:  0.8119301498995518 with alpha:  1.9\n"
     ]
    }
   ],
   "source": [
    "for i in range(1, 20,2):  #thay đổi giá trị alpha trong model\n",
    "    \n",
    "    clf = MultinomialNB(alpha=i/10).fit(X_train_counts_sum, y_train)\n",
    "    X_test_counts_sum = count_vect.transform(X_test.summary)\n",
    "    predicted2 = clf.predict(X_test_counts_sum)\n",
    "    \n",
    "    print(\"prior: \",np.mean(predicted2 == y_test),\"with alpha: \", i/10) "
   ]
  },
  {
   "cell_type": "markdown",
   "metadata": {},
   "source": [
    "alpha = 1.7 cho tỉ lệ chính xác cao nhất"
   ]
  },
  {
   "cell_type": "code",
   "execution_count": 98,
   "metadata": {},
   "outputs": [
    {
     "data": {
      "text/plain": [
       "0.8052078504095194"
      ]
     },
     "execution_count": 98,
     "metadata": {},
     "output_type": "execute_result"
    }
   ],
   "source": [
    "clf = BernoulliNB().fit(X_train_counts_sum, y_train) # sử dụng BernoulliNB\n",
    "predicted3 = clf.predict(X_test_counts_sum)\n",
    "np.mean(predicted3 == y_test) # độ chính xác của dữ liệu dự đoán"
   ]
  },
  {
   "cell_type": "code",
   "execution_count": 99,
   "metadata": {
    "scrolled": true
   },
   "outputs": [
    {
     "data": {
      "text/plain": [
       "array([['high', '12594'],\n",
       "       ['low', '184'],\n",
       "       ['medium', '164']], dtype='<U21')"
      ]
     },
     "execution_count": 99,
     "metadata": {},
     "output_type": "execute_result"
    }
   ],
   "source": [
    "itemfreq(predicted3)"
   ]
  },
  {
   "cell_type": "markdown",
   "metadata": {},
   "source": [
    "# sử dụng tf-idf với cột reviewText"
   ]
  },
  {
   "cell_type": "code",
   "execution_count": 100,
   "metadata": {},
   "outputs": [
    {
     "data": {
      "text/plain": [
       "0.8029670839128419"
      ]
     },
     "execution_count": 100,
     "metadata": {},
     "output_type": "execute_result"
    }
   ],
   "source": [
    "from sklearn.feature_extraction.text import TfidfVectorizer\n",
    "tfidf_vector = TfidfVectorizer()\n",
    "tfidf_train = tfidf_vector.fit_transform(X_train.reviewText)\n",
    "tfidf_test = tfidf_vector.transform(X_test.reviewText)\n",
    "clf = MultinomialNB().fit(tfidf_train, y_train)\n",
    "predicted4 = clf.predict(tfidf_test)\n",
    "np.mean(predicted4 == y_test)"
   ]
  },
  {
   "cell_type": "code",
   "execution_count": 101,
   "metadata": {
    "scrolled": true
   },
   "outputs": [
    {
     "data": {
      "text/plain": [
       "array([['high', '12942']], dtype='<U21')"
      ]
     },
     "execution_count": 101,
     "metadata": {},
     "output_type": "execute_result"
    }
   ],
   "source": [
    "from scipy.stats import itemfreq\n",
    "itemfreq(predicted4)"
   ]
  },
  {
   "cell_type": "markdown",
   "metadata": {},
   "source": [
    "# sử dụng tf-idf với cột summary"
   ]
  },
  {
   "cell_type": "code",
   "execution_count": 102,
   "metadata": {
    "scrolled": true
   },
   "outputs": [
    {
     "data": {
      "text/plain": [
       "0.810771132746098"
      ]
     },
     "execution_count": 102,
     "metadata": {},
     "output_type": "execute_result"
    }
   ],
   "source": [
    "tfidf_train_sum = tfidf_vector.fit_transform(X_train.summary)\n",
    "tfidf_test_sum = tfidf_vector.transform(X_test.summary)\n",
    "clf = MultinomialNB().fit(tfidf_train_sum, y_train)\n",
    "predicted4 = clf.predict(tfidf_test_sum)\n",
    "np.mean(predicted4 == y_test)"
   ]
  },
  {
   "cell_type": "code",
   "execution_count": 103,
   "metadata": {
    "scrolled": false
   },
   "outputs": [
    {
     "data": {
      "text/plain": [
       "array([['high', '12765'],\n",
       "       ['low', '121'],\n",
       "       ['medium', '56']], dtype='<U21')"
      ]
     },
     "execution_count": 103,
     "metadata": {},
     "output_type": "execute_result"
    }
   ],
   "source": [
    "itemfreq(predicted4)"
   ]
  },
  {
   "cell_type": "markdown",
   "metadata": {},
   "source": [
    "# Nhận xét"
   ]
  },
  {
   "cell_type": "markdown",
   "metadata": {},
   "source": [
    "- các model sử dụng cho tỉ lệ chính xác gần giống nhau\n",
    "- model sử dụng CountVectorizer dùng cột reviewText cho kết quả tốt nhất:0.815 và 0.8216 khi thay đổi giá trị alpha\n",
    "- sử dụng tf-idf model dự đoán kém hơn, rất ít các giá trị medium và low."
   ]
  }
 ],
 "metadata": {
  "kernelspec": {
   "display_name": "Python 3",
   "language": "python",
   "name": "python3"
  },
  "language_info": {
   "codemirror_mode": {
    "name": "ipython",
    "version": 3
   },
   "file_extension": ".py",
   "mimetype": "text/x-python",
   "name": "python",
   "nbconvert_exporter": "python",
   "pygments_lexer": "ipython3",
   "version": "3.6.3"
  }
 },
 "nbformat": 4,
 "nbformat_minor": 2
}
